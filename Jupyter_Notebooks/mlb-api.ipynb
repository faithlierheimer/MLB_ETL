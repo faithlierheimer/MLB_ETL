{
 "metadata": {
  "language_info": {
   "codemirror_mode": {
    "name": "ipython",
    "version": 3
   },
   "file_extension": ".py",
   "mimetype": "text/x-python",
   "name": "python",
   "nbconvert_exporter": "python",
   "pygments_lexer": "ipython3",
   "version": "3.7.6-final"
  },
  "orig_nbformat": 2,
  "kernelspec": {
   "name": "python_defaultSpec_1599519708689",
   "display_name": "Python 3.7.6 64-bit ('base': conda)"
  }
 },
 "nbformat": 4,
 "nbformat_minor": 2,
 "cells": [
  {
   "cell_type": "code",
   "execution_count": 1,
   "metadata": {},
   "outputs": [],
   "source": [
    "import pandas as pd\n",
    "import statsapi\n",
    "import string\n"
   ]
  },
  {
   "cell_type": "code",
   "execution_count": 2,
   "metadata": {
    "tags": []
   },
   "outputs": [],
   "source": [
    "player_id=[]\n",
    "alphabet=list(string.ascii_lowercase)\n",
    "try:\n",
    "    for letter in alphabet:    \n",
    "        for player in statsapi.lookup_player( letter, season=\"2018\"):\n",
    "            p_id=player[\"id\"]\n",
    "            player_id.append(p_id)\n",
    "except KeyError:\n",
    "    print(\"error\")\n",
    "\n"
   ]
  },
  {
   "cell_type": "code",
   "execution_count": 7,
   "metadata": {},
   "outputs": [
    {
     "output_type": "execute_result",
     "data": {
      "text/plain": "      Player ID first_name last_name team hits avg homeruns atbats obp  \\\n0        547989                                                          \n1        660670                                                          \n2        592094                                                          \n3        642715                                                          \n4        613534                                                          \n...         ...        ...       ...  ...  ...  ..      ...    ...  ..   \n1374     605548                                                          \n1375     475582                                                          \n1376     519455                                                          \n1377     450314                                                          \n1378     572287                                                          \n\n     stolenbases rbi  \n0                     \n1                     \n2                     \n3                     \n4                     \n...          ...  ..  \n1374                  \n1375                  \n1376                  \n1377                  \n1378                  \n\n[1379 rows x 11 columns]",
      "text/html": "<div>\n<style scoped>\n    .dataframe tbody tr th:only-of-type {\n        vertical-align: middle;\n    }\n\n    .dataframe tbody tr th {\n        vertical-align: top;\n    }\n\n    .dataframe thead th {\n        text-align: right;\n    }\n</style>\n<table border=\"1\" class=\"dataframe\">\n  <thead>\n    <tr style=\"text-align: right;\">\n      <th></th>\n      <th>Player ID</th>\n      <th>first_name</th>\n      <th>last_name</th>\n      <th>team</th>\n      <th>hits</th>\n      <th>avg</th>\n      <th>homeruns</th>\n      <th>atbats</th>\n      <th>obp</th>\n      <th>stolenbases</th>\n      <th>rbi</th>\n    </tr>\n  </thead>\n  <tbody>\n    <tr>\n      <th>0</th>\n      <td>547989</td>\n      <td></td>\n      <td></td>\n      <td></td>\n      <td></td>\n      <td></td>\n      <td></td>\n      <td></td>\n      <td></td>\n      <td></td>\n      <td></td>\n    </tr>\n    <tr>\n      <th>1</th>\n      <td>660670</td>\n      <td></td>\n      <td></td>\n      <td></td>\n      <td></td>\n      <td></td>\n      <td></td>\n      <td></td>\n      <td></td>\n      <td></td>\n      <td></td>\n    </tr>\n    <tr>\n      <th>2</th>\n      <td>592094</td>\n      <td></td>\n      <td></td>\n      <td></td>\n      <td></td>\n      <td></td>\n      <td></td>\n      <td></td>\n      <td></td>\n      <td></td>\n      <td></td>\n    </tr>\n    <tr>\n      <th>3</th>\n      <td>642715</td>\n      <td></td>\n      <td></td>\n      <td></td>\n      <td></td>\n      <td></td>\n      <td></td>\n      <td></td>\n      <td></td>\n      <td></td>\n      <td></td>\n    </tr>\n    <tr>\n      <th>4</th>\n      <td>613534</td>\n      <td></td>\n      <td></td>\n      <td></td>\n      <td></td>\n      <td></td>\n      <td></td>\n      <td></td>\n      <td></td>\n      <td></td>\n      <td></td>\n    </tr>\n    <tr>\n      <th>...</th>\n      <td>...</td>\n      <td>...</td>\n      <td>...</td>\n      <td>...</td>\n      <td>...</td>\n      <td>...</td>\n      <td>...</td>\n      <td>...</td>\n      <td>...</td>\n      <td>...</td>\n      <td>...</td>\n    </tr>\n    <tr>\n      <th>1374</th>\n      <td>605548</td>\n      <td></td>\n      <td></td>\n      <td></td>\n      <td></td>\n      <td></td>\n      <td></td>\n      <td></td>\n      <td></td>\n      <td></td>\n      <td></td>\n    </tr>\n    <tr>\n      <th>1375</th>\n      <td>475582</td>\n      <td></td>\n      <td></td>\n      <td></td>\n      <td></td>\n      <td></td>\n      <td></td>\n      <td></td>\n      <td></td>\n      <td></td>\n      <td></td>\n    </tr>\n    <tr>\n      <th>1376</th>\n      <td>519455</td>\n      <td></td>\n      <td></td>\n      <td></td>\n      <td></td>\n      <td></td>\n      <td></td>\n      <td></td>\n      <td></td>\n      <td></td>\n      <td></td>\n    </tr>\n    <tr>\n      <th>1377</th>\n      <td>450314</td>\n      <td></td>\n      <td></td>\n      <td></td>\n      <td></td>\n      <td></td>\n      <td></td>\n      <td></td>\n      <td></td>\n      <td></td>\n      <td></td>\n    </tr>\n    <tr>\n      <th>1378</th>\n      <td>572287</td>\n      <td></td>\n      <td></td>\n      <td></td>\n      <td></td>\n      <td></td>\n      <td></td>\n      <td></td>\n      <td></td>\n      <td></td>\n      <td></td>\n    </tr>\n  </tbody>\n</table>\n<p>1379 rows × 11 columns</p>\n</div>"
     },
     "metadata": {},
     "execution_count": 7
    }
   ],
   "source": [
    "player_list=pd.DataFrame(player_id, columns=[\"Player ID\"])\n",
    "player_list.drop_duplicates(inplace=True)\n",
    "labels=[\"first_name\",\"last_name\",\"team\",\"hits\",\"avg\", \"homeruns\", \"atbats\", \"obp\",\"stolenbases\",\"rbi\"]\n",
    "for label in labels:\n",
    "    player_list[label]=\"\"\n",
    "player_list"
   ]
  },
  {
   "cell_type": "code",
   "execution_count": 8,
   "metadata": {
    "tags": []
   },
   "outputs": [
    {
     "output_type": "stream",
     "name": "stdout",
     "text": "109\n"
    }
   ],
   "source": [
    "fail_count=0\n",
    "for index, row in player_list.iterrows():\n",
    "    try:\n",
    "        player_num=row[\"Player ID\"]\n",
    "        player=statsapi.player_stat_data(player_num, type=\"yearByYear\", group=\"[hitting]\")\n",
    "        all_stats=player[\"stats\"]\n",
    "        stats_2018=list(filter(lambda player: player[\"season\"] == \"2018\", all_stats))[0][\"stats\"]\n",
    "        player_list.loc[index,\"first_name\"]=player[\"first_name\"]\n",
    "        player_list.loc[index,\"last_name\"]=player[\"last_name\"]\n",
    "        player_list.loc[index,\"team\"]=player[\"current_team\"]\n",
    "        player_list.loc[index,\"hits\"]=stats_2018[\"hits\"]\n",
    "        player_list.loc[index,\"avg\"]=stats_2018[\"avg\"]\n",
    "        player_list.loc[index,\"homeruns\"]=stats_2018[\"homeRuns\"]\n",
    "        player_list.loc[index,\"atbats\"]=stats_2018[\"atBats\"]\n",
    "        player_list.loc[index,\"obp\"]=stats_2018[\"obp\"]\n",
    "        player_list.loc[index,\"stolenbases\"]=stats_2018[\"stolenBases\"]\n",
    "        player_list.loc[index,\"rbi\"]=stats_2018[\"rbi\"]\n",
    "    except IndexError:\n",
    "        fail_count+=1\n",
    "print(fail_count)"
   ]
  },
  {
   "cell_type": "code",
   "execution_count": 9,
   "metadata": {},
   "outputs": [],
   "source": [
    "player_list.to_csv(\"stats.csv\",index=False)"
   ]
  },
  {
   "cell_type": "code",
   "execution_count": 10,
   "metadata": {},
   "outputs": [
    {
     "output_type": "execute_result",
     "data": {
      "text/plain": "      Player ID first_name   last_name                  team hits   avg  \\\n0        547989       Jose       Abreu     Chicago White Sox  132  .265   \n1        660670     Ronald       Acuna        Atlanta Braves  127  .293   \n2        592094      Jason        Adam          Chicago Cubs    0  .---   \n3        642715      Willy      Adames        Tampa Bay Rays   80  .278   \n4        613534     Austin       Adams      San Diego Padres    0  .---   \n...         ...        ...         ...                   ...  ...   ...   \n1374     605548    Bradley      Zimmer     Cleveland Indians   24  .226   \n1375     475582       Ryan   Zimmerman  Washington Nationals   76  .264   \n1376     519455     Jordan  Zimmermann        Detroit Tigers    0  .000   \n1377     450314        Ben     Zobrist          Chicago Cubs  139  .305   \n1378     572287       Mike      Zunino        Tampa Bay Rays   75  .201   \n\n     homeruns atbats   obp stolenbases rbi  \n0          22    499  .325           2  78  \n1          26    433  .366          16  64  \n2           0      0  .---           0   0  \n3          10    288  .348           6  34  \n4           0      0  .---           0   0  \n...       ...    ...   ...         ...  ..  \n1374        2    106  .281           4   9  \n1375       13    288  .337           1  51  \n1376        0      2  .000           0   0  \n1377        9    455  .378           3  58  \n1378       20    373  .259           0  44  \n\n[1379 rows x 11 columns]",
      "text/html": "<div>\n<style scoped>\n    .dataframe tbody tr th:only-of-type {\n        vertical-align: middle;\n    }\n\n    .dataframe tbody tr th {\n        vertical-align: top;\n    }\n\n    .dataframe thead th {\n        text-align: right;\n    }\n</style>\n<table border=\"1\" class=\"dataframe\">\n  <thead>\n    <tr style=\"text-align: right;\">\n      <th></th>\n      <th>Player ID</th>\n      <th>first_name</th>\n      <th>last_name</th>\n      <th>team</th>\n      <th>hits</th>\n      <th>avg</th>\n      <th>homeruns</th>\n      <th>atbats</th>\n      <th>obp</th>\n      <th>stolenbases</th>\n      <th>rbi</th>\n    </tr>\n  </thead>\n  <tbody>\n    <tr>\n      <th>0</th>\n      <td>547989</td>\n      <td>Jose</td>\n      <td>Abreu</td>\n      <td>Chicago White Sox</td>\n      <td>132</td>\n      <td>.265</td>\n      <td>22</td>\n      <td>499</td>\n      <td>.325</td>\n      <td>2</td>\n      <td>78</td>\n    </tr>\n    <tr>\n      <th>1</th>\n      <td>660670</td>\n      <td>Ronald</td>\n      <td>Acuna</td>\n      <td>Atlanta Braves</td>\n      <td>127</td>\n      <td>.293</td>\n      <td>26</td>\n      <td>433</td>\n      <td>.366</td>\n      <td>16</td>\n      <td>64</td>\n    </tr>\n    <tr>\n      <th>2</th>\n      <td>592094</td>\n      <td>Jason</td>\n      <td>Adam</td>\n      <td>Chicago Cubs</td>\n      <td>0</td>\n      <td>.---</td>\n      <td>0</td>\n      <td>0</td>\n      <td>.---</td>\n      <td>0</td>\n      <td>0</td>\n    </tr>\n    <tr>\n      <th>3</th>\n      <td>642715</td>\n      <td>Willy</td>\n      <td>Adames</td>\n      <td>Tampa Bay Rays</td>\n      <td>80</td>\n      <td>.278</td>\n      <td>10</td>\n      <td>288</td>\n      <td>.348</td>\n      <td>6</td>\n      <td>34</td>\n    </tr>\n    <tr>\n      <th>4</th>\n      <td>613534</td>\n      <td>Austin</td>\n      <td>Adams</td>\n      <td>San Diego Padres</td>\n      <td>0</td>\n      <td>.---</td>\n      <td>0</td>\n      <td>0</td>\n      <td>.---</td>\n      <td>0</td>\n      <td>0</td>\n    </tr>\n    <tr>\n      <th>...</th>\n      <td>...</td>\n      <td>...</td>\n      <td>...</td>\n      <td>...</td>\n      <td>...</td>\n      <td>...</td>\n      <td>...</td>\n      <td>...</td>\n      <td>...</td>\n      <td>...</td>\n      <td>...</td>\n    </tr>\n    <tr>\n      <th>1374</th>\n      <td>605548</td>\n      <td>Bradley</td>\n      <td>Zimmer</td>\n      <td>Cleveland Indians</td>\n      <td>24</td>\n      <td>.226</td>\n      <td>2</td>\n      <td>106</td>\n      <td>.281</td>\n      <td>4</td>\n      <td>9</td>\n    </tr>\n    <tr>\n      <th>1375</th>\n      <td>475582</td>\n      <td>Ryan</td>\n      <td>Zimmerman</td>\n      <td>Washington Nationals</td>\n      <td>76</td>\n      <td>.264</td>\n      <td>13</td>\n      <td>288</td>\n      <td>.337</td>\n      <td>1</td>\n      <td>51</td>\n    </tr>\n    <tr>\n      <th>1376</th>\n      <td>519455</td>\n      <td>Jordan</td>\n      <td>Zimmermann</td>\n      <td>Detroit Tigers</td>\n      <td>0</td>\n      <td>.000</td>\n      <td>0</td>\n      <td>2</td>\n      <td>.000</td>\n      <td>0</td>\n      <td>0</td>\n    </tr>\n    <tr>\n      <th>1377</th>\n      <td>450314</td>\n      <td>Ben</td>\n      <td>Zobrist</td>\n      <td>Chicago Cubs</td>\n      <td>139</td>\n      <td>.305</td>\n      <td>9</td>\n      <td>455</td>\n      <td>.378</td>\n      <td>3</td>\n      <td>58</td>\n    </tr>\n    <tr>\n      <th>1378</th>\n      <td>572287</td>\n      <td>Mike</td>\n      <td>Zunino</td>\n      <td>Tampa Bay Rays</td>\n      <td>75</td>\n      <td>.201</td>\n      <td>20</td>\n      <td>373</td>\n      <td>.259</td>\n      <td>0</td>\n      <td>44</td>\n    </tr>\n  </tbody>\n</table>\n<p>1379 rows × 11 columns</p>\n</div>"
     },
     "metadata": {},
     "execution_count": 10
    }
   ],
   "source": [
    "player_list"
   ]
  }
 ]
}